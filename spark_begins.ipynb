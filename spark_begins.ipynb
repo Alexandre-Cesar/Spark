{
  "nbformat": 4,
  "nbformat_minor": 0,
  "metadata": {
    "colab": {
      "provenance": []
    },
    "kernelspec": {
      "name": "python3",
      "display_name": "Python 3"
    },
    "language_info": {
      "name": "python"
    }
  },
  "cells": [
    {
      "cell_type": "markdown",
      "source": [
        "#PySpark\n",
        "##primeiro passo: instalar e fazer conexão"
      ],
      "metadata": {
        "id": "NSxBebzIi-Xr"
      }
    },
    {
      "cell_type": "code",
      "source": [
        " !pip install pyspark"
      ],
      "metadata": {
        "id": "3I95ASLrc4NU",
        "colab": {
          "base_uri": "https://localhost:8080/"
        },
        "outputId": "d1a270b8-ac11-439f-9b6c-5bf6dc4e6bdd"
      },
      "execution_count": null,
      "outputs": [
        {
          "output_type": "stream",
          "name": "stdout",
          "text": [
            "Looking in indexes: https://pypi.org/simple, https://us-python.pkg.dev/colab-wheels/public/simple/\n",
            "Requirement already satisfied: pyspark in /usr/local/lib/python3.8/dist-packages (3.3.1)\n",
            "Requirement already satisfied: py4j==0.10.9.5 in /usr/local/lib/python3.8/dist-packages (from pyspark) (0.10.9.5)\n"
          ]
        }
      ]
    },
    {
      "cell_type": "code",
      "source": [
        "import pyspark\n",
        "#conexão\n",
        "from pyspark.sql import SparkSession\n",
        "#filtragem \n",
        "from pyspark.sql.functions import max, count, col, asc, desc"
      ],
      "metadata": {
        "id": "584tac6CdUGZ"
      },
      "execution_count": null,
      "outputs": []
    },
    {
      "cell_type": "code",
      "source": [
        "#realiza a conexão com o spark\n",
        "spark = SparkSession.builder\\\n",
        "      .master(\"local\")\\\n",
        "      .appName(\"DataFrame\")\\\n",
        "      .getOrCreate()"
      ],
      "metadata": {
        "id": "fkDlTnF8drLQ"
      },
      "execution_count": null,
      "outputs": []
    },
    {
      "cell_type": "markdown",
      "source": [
        "##Segundo passo: realizar a leitura e lapidação dos dados"
      ],
      "metadata": {
        "id": "GdJ-5Fy_Ezvp"
      }
    },
    {
      "cell_type": "code",
      "source": [
        "#guarda o arquivo na base de dados se tornando um dataframe\n",
        "#obs.: caso seja separado por caracteres, deve ser utilziado sep = (caracter separador)\n",
        "df = spark.read.csv(\"/content/imdb_top_1000.csv\", header = True, inferSchema = True)\n",
        "\n",
        "#mostra os tipos de dados de cada coluna\n",
        "df.printSchema()\n",
        "\n"
      ],
      "metadata": {
        "colab": {
          "base_uri": "https://localhost:8080/"
        },
        "id": "o6LbgfelEyXh",
        "outputId": "ca348914-5296-4bf1-8aa6-2069a8813be3"
      },
      "execution_count": null,
      "outputs": [
        {
          "output_type": "stream",
          "name": "stdout",
          "text": [
            "root\n",
            " |-- Poster_Link: string (nullable = true)\n",
            " |-- Series_Title: string (nullable = true)\n",
            " |-- Released_Year: string (nullable = true)\n",
            " |-- Certificate: string (nullable = true)\n",
            " |-- Runtime: string (nullable = true)\n",
            " |-- Genre: string (nullable = true)\n",
            " |-- IMDB_Rating: double (nullable = true)\n",
            " |-- Overview: string (nullable = true)\n",
            " |-- Meta_score: string (nullable = true)\n",
            " |-- Director: string (nullable = true)\n",
            " |-- Star1: string (nullable = true)\n",
            " |-- Star2: string (nullable = true)\n",
            " |-- Star3: string (nullable = true)\n",
            " |-- Star4: string (nullable = true)\n",
            " |-- No_of_Votes: string (nullable = true)\n",
            " |-- Gross: string (nullable = true)\n",
            "\n"
          ]
        }
      ]
    },
    {
      "cell_type": "code",
      "source": [
        "#mostra a base de dados\n",
        "df.show()"
      ],
      "metadata": {
        "colab": {
          "base_uri": "https://localhost:8080/"
        },
        "id": "OaobEaKPFwtl",
        "outputId": "7c57c4d8-cc18-4d26-f83c-ddefac91adb8"
      },
      "execution_count": null,
      "outputs": [
        {
          "output_type": "stream",
          "name": "stdout",
          "text": [
            "+--------------------+--------------------+-------------+-----------+-------+--------------------+-----------+--------------------+----------+--------------------+------------------+--------------------+------------------+--------------------+-----------+-----------+\n",
            "|         Poster_Link|        Series_Title|Released_Year|Certificate|Runtime|               Genre|IMDB_Rating|            Overview|Meta_score|            Director|             Star1|               Star2|             Star3|               Star4|No_of_Votes|      Gross|\n",
            "+--------------------+--------------------+-------------+-----------+-------+--------------------+-----------+--------------------+----------+--------------------+------------------+--------------------+------------------+--------------------+-----------+-----------+\n",
            "|https://m.media-a...|The Shawshank Red...|         1994|          A|142 min|               Drama|        9.3|Two imprisoned me...|        80|      Frank Darabont|       Tim Robbins|      Morgan Freeman|        Bob Gunton|      William Sadler|    2343110| 28,341,469|\n",
            "|https://m.media-a...|       The Godfather|         1972|          A|175 min|        Crime, Drama|        9.2|An organized crim...|       100|Francis Ford Coppola|     Marlon Brando|           Al Pacino|        James Caan|        Diane Keaton|    1620367|134,966,411|\n",
            "|https://m.media-a...|     The Dark Knight|         2008|         UA|152 min|Action, Crime, Drama|        9.0|When the menace k...|        84|   Christopher Nolan|    Christian Bale|        Heath Ledger|     Aaron Eckhart|       Michael Caine|    2303232|534,858,444|\n",
            "|https://m.media-a...|The Godfather: Pa...|         1974|          A|202 min|        Crime, Drama|        9.0|The early life an...|        90|Francis Ford Coppola|         Al Pacino|      Robert De Niro|     Robert Duvall|        Diane Keaton|    1129952| 57,300,000|\n",
            "|https://m.media-a...|        12 Angry Men|         1957|          U| 96 min|        Crime, Drama|        9.0|A jury holdout at...|        96|        Sidney Lumet|       Henry Fonda|         Lee J. Cobb|     Martin Balsam|        John Fiedler|     689845|  4,360,000|\n",
            "|https://m.media-a...|The Lord of the R...|         2003|          U|201 min|Action, Adventure...|        8.9|Gandalf and Arago...|        94|       Peter Jackson|       Elijah Wood|     Viggo Mortensen|      Ian McKellen|       Orlando Bloom|    1642758|377,845,905|\n",
            "|https://m.media-a...|        Pulp Fiction|         1994|          A|154 min|        Crime, Drama|        8.9|The lives of two ...|        94|   Quentin Tarantino|     John Travolta|         Uma Thurman| Samuel L. Jackson|        Bruce Willis|    1826188|107,928,762|\n",
            "|https://m.media-a...|    Schindler's List|         1993|          A|195 min|Biography, Drama,...|        8.9|In German-occupie...|        94|    Steven Spielberg|       Liam Neeson|       Ralph Fiennes|      Ben Kingsley|    Caroline Goodall|    1213505| 96,898,818|\n",
            "|https://m.media-a...|           Inception|         2010|         UA|148 min|Action, Adventure...|        8.8|A thief who steal...|        74|   Christopher Nolan| Leonardo DiCaprio|Joseph Gordon-Levitt|       Elliot Page|        Ken Watanabe|    2067042|292,576,195|\n",
            "|https://m.media-a...|          Fight Club|         1999|          A|139 min|               Drama|        8.8|An insomniac offi...|        66|       David Fincher|         Brad Pitt|       Edward Norton|         Meat Loaf|        Zach Grenier|    1854740| 37,030,102|\n",
            "|https://m.media-a...|The Lord of the R...|         2001|          U|178 min|Action, Adventure...|        8.8|A meek Hobbit fro...|        92|       Peter Jackson|       Elijah Wood|        Ian McKellen|     Orlando Bloom|           Sean Bean|    1661481|315,544,750|\n",
            "|https://m.media-a...|        Forrest Gump|         1994|         UA|142 min|      Drama, Romance|        8.8|The presidencies ...|        82|     Robert Zemeckis|         Tom Hanks|        Robin Wright|       Gary Sinise|         Sally Field|    1809221|330,252,182|\n",
            "|https://m.media-a...|Il buono, il brut...|         1966|          A|161 min|             Western|        8.8|A bounty hunting ...|        90|        Sergio Leone|    Clint Eastwood|         Eli Wallach|     Lee Van Cleef|        Aldo Giuffrè|     688390|  6,100,000|\n",
            "|https://m.media-a...|The Lord of the R...|         2002|         UA|179 min|Action, Adventure...|        8.7|While Frodo and S...|        87|       Peter Jackson|       Elijah Wood|        Ian McKellen|   Viggo Mortensen|       Orlando Bloom|    1485555|342,551,365|\n",
            "|https://m.media-a...|          The Matrix|         1999|          A|136 min|      Action, Sci-Fi|        8.7|When a beautiful ...|        73|      Lana Wachowski|   Lilly Wachowski|        Keanu Reeves|Laurence Fishburne|    Carrie-Anne Moss|    1676426|171,479,930|\n",
            "|https://m.media-a...|          Goodfellas|         1990|          A|146 min|Biography, Crime,...|        8.7|The story of Henr...|        90|     Martin Scorsese|    Robert De Niro|          Ray Liotta|         Joe Pesci|     Lorraine Bracco|    1020727| 46,836,394|\n",
            "|https://m.media-a...|Star Wars: Episod...|         1980|         UA|124 min|Action, Adventure...|        8.7|After the Rebels ...|        82|      Irvin Kershner|       Mark Hamill|       Harrison Ford|     Carrie Fisher|  Billy Dee Williams|    1159315|290,475,067|\n",
            "|https://m.media-a...|One Flew Over the...|         1975|          A|133 min|               Drama|        8.7|A criminal pleads...|        83|        Milos Forman|    Jack Nicholson|     Louise Fletcher|  Michael Berryman|        Peter Brocco|     918088|112,000,000|\n",
            "|https://m.media-a...|            Hamilton|         2020|      PG-13|160 min|Biography, Drama,...|        8.6|The real life of ...|        90|         Thomas Kail|Lin-Manuel Miranda|        Phillipa Soo|   Leslie Odom Jr.|Renée Elise Golds...|      55291|       null|\n",
            "|https://m.media-a...|        Gisaengchung|         2019|          A|132 min|Comedy, Drama, Th...|        8.6|Greed and class d...|        96|        Bong Joon Ho|      Kang-ho Song|        Lee Sun-kyun|     Cho Yeo-jeong|        Choi Woo-sik|     552778| 53,367,844|\n",
            "+--------------------+--------------------+-------------+-----------+-------+--------------------+-----------+--------------------+----------+--------------------+------------------+--------------------+------------------+--------------------+-----------+-----------+\n",
            "only showing top 20 rows\n",
            "\n"
          ]
        }
      ]
    },
    {
      "cell_type": "code",
      "source": [
        "#cria uma variavel que seleciona as colunas da base de dados anterior\n",
        "df_series = df.select('Series_title','Released_Year','Director','Genre', 'No_of_Votes','Star1','Star2')\n",
        "df_series.show()"
      ],
      "metadata": {
        "colab": {
          "base_uri": "https://localhost:8080/"
        },
        "id": "4HOLhdJ5f5Ny",
        "outputId": "b3675587-f6aa-44e6-efd1-c83c997476d2"
      },
      "execution_count": null,
      "outputs": [
        {
          "output_type": "stream",
          "name": "stdout",
          "text": [
            "+--------------------+-------------+--------------------+--------------------+-----------+------------------+--------------------+\n",
            "|        Series_title|Released_Year|            Director|               Genre|No_of_Votes|             Star1|               Star2|\n",
            "+--------------------+-------------+--------------------+--------------------+-----------+------------------+--------------------+\n",
            "|The Shawshank Red...|         1994|      Frank Darabont|               Drama|    2343110|       Tim Robbins|      Morgan Freeman|\n",
            "|       The Godfather|         1972|Francis Ford Coppola|        Crime, Drama|    1620367|     Marlon Brando|           Al Pacino|\n",
            "|     The Dark Knight|         2008|   Christopher Nolan|Action, Crime, Drama|    2303232|    Christian Bale|        Heath Ledger|\n",
            "|The Godfather: Pa...|         1974|Francis Ford Coppola|        Crime, Drama|    1129952|         Al Pacino|      Robert De Niro|\n",
            "|        12 Angry Men|         1957|        Sidney Lumet|        Crime, Drama|     689845|       Henry Fonda|         Lee J. Cobb|\n",
            "|The Lord of the R...|         2003|       Peter Jackson|Action, Adventure...|    1642758|       Elijah Wood|     Viggo Mortensen|\n",
            "|        Pulp Fiction|         1994|   Quentin Tarantino|        Crime, Drama|    1826188|     John Travolta|         Uma Thurman|\n",
            "|    Schindler's List|         1993|    Steven Spielberg|Biography, Drama,...|    1213505|       Liam Neeson|       Ralph Fiennes|\n",
            "|           Inception|         2010|   Christopher Nolan|Action, Adventure...|    2067042| Leonardo DiCaprio|Joseph Gordon-Levitt|\n",
            "|          Fight Club|         1999|       David Fincher|               Drama|    1854740|         Brad Pitt|       Edward Norton|\n",
            "|The Lord of the R...|         2001|       Peter Jackson|Action, Adventure...|    1661481|       Elijah Wood|        Ian McKellen|\n",
            "|        Forrest Gump|         1994|     Robert Zemeckis|      Drama, Romance|    1809221|         Tom Hanks|        Robin Wright|\n",
            "|Il buono, il brut...|         1966|        Sergio Leone|             Western|     688390|    Clint Eastwood|         Eli Wallach|\n",
            "|The Lord of the R...|         2002|       Peter Jackson|Action, Adventure...|    1485555|       Elijah Wood|        Ian McKellen|\n",
            "|          The Matrix|         1999|      Lana Wachowski|      Action, Sci-Fi|    1676426|   Lilly Wachowski|        Keanu Reeves|\n",
            "|          Goodfellas|         1990|     Martin Scorsese|Biography, Crime,...|    1020727|    Robert De Niro|          Ray Liotta|\n",
            "|Star Wars: Episod...|         1980|      Irvin Kershner|Action, Adventure...|    1159315|       Mark Hamill|       Harrison Ford|\n",
            "|One Flew Over the...|         1975|        Milos Forman|               Drama|     918088|    Jack Nicholson|     Louise Fletcher|\n",
            "|            Hamilton|         2020|         Thomas Kail|Biography, Drama,...|      55291|Lin-Manuel Miranda|        Phillipa Soo|\n",
            "|        Gisaengchung|         2019|        Bong Joon Ho|Comedy, Drama, Th...|     552778|      Kang-ho Song|        Lee Sun-kyun|\n",
            "+--------------------+-------------+--------------------+--------------------+-----------+------------------+--------------------+\n",
            "only showing top 20 rows\n",
            "\n"
          ]
        }
      ]
    },
    {
      "cell_type": "code",
      "source": [
        "#cria uma nova coluna chamada votos como copia da coluna No_of_Votes, mudando sua tipagem para int\n",
        "df_votos = df_series.withColumn('votos', df_series['No_of_Votes'].cast('int')).drop('No_of_Votes')\n",
        "#coluna No_of_Votes foi removida com .drop()\n",
        "df_votos.show()"
      ],
      "metadata": {
        "colab": {
          "base_uri": "https://localhost:8080/"
        },
        "id": "JnltFDeM9W0Y",
        "outputId": "d6ac3655-d0cc-4872-9ef7-e1b2bab95650"
      },
      "execution_count": null,
      "outputs": [
        {
          "output_type": "stream",
          "name": "stdout",
          "text": [
            "+--------------------+-------------+--------------------+--------------------+------------------+--------------------+-------+\n",
            "|        Series_title|Released_Year|            Director|               Genre|             Star1|               Star2|  votos|\n",
            "+--------------------+-------------+--------------------+--------------------+------------------+--------------------+-------+\n",
            "|The Shawshank Red...|         1994|      Frank Darabont|               Drama|       Tim Robbins|      Morgan Freeman|2343110|\n",
            "|       The Godfather|         1972|Francis Ford Coppola|        Crime, Drama|     Marlon Brando|           Al Pacino|1620367|\n",
            "|     The Dark Knight|         2008|   Christopher Nolan|Action, Crime, Drama|    Christian Bale|        Heath Ledger|2303232|\n",
            "|The Godfather: Pa...|         1974|Francis Ford Coppola|        Crime, Drama|         Al Pacino|      Robert De Niro|1129952|\n",
            "|        12 Angry Men|         1957|        Sidney Lumet|        Crime, Drama|       Henry Fonda|         Lee J. Cobb| 689845|\n",
            "|The Lord of the R...|         2003|       Peter Jackson|Action, Adventure...|       Elijah Wood|     Viggo Mortensen|1642758|\n",
            "|        Pulp Fiction|         1994|   Quentin Tarantino|        Crime, Drama|     John Travolta|         Uma Thurman|1826188|\n",
            "|    Schindler's List|         1993|    Steven Spielberg|Biography, Drama,...|       Liam Neeson|       Ralph Fiennes|1213505|\n",
            "|           Inception|         2010|   Christopher Nolan|Action, Adventure...| Leonardo DiCaprio|Joseph Gordon-Levitt|2067042|\n",
            "|          Fight Club|         1999|       David Fincher|               Drama|         Brad Pitt|       Edward Norton|1854740|\n",
            "|The Lord of the R...|         2001|       Peter Jackson|Action, Adventure...|       Elijah Wood|        Ian McKellen|1661481|\n",
            "|        Forrest Gump|         1994|     Robert Zemeckis|      Drama, Romance|         Tom Hanks|        Robin Wright|1809221|\n",
            "|Il buono, il brut...|         1966|        Sergio Leone|             Western|    Clint Eastwood|         Eli Wallach| 688390|\n",
            "|The Lord of the R...|         2002|       Peter Jackson|Action, Adventure...|       Elijah Wood|        Ian McKellen|1485555|\n",
            "|          The Matrix|         1999|      Lana Wachowski|      Action, Sci-Fi|   Lilly Wachowski|        Keanu Reeves|1676426|\n",
            "|          Goodfellas|         1990|     Martin Scorsese|Biography, Crime,...|    Robert De Niro|          Ray Liotta|1020727|\n",
            "|Star Wars: Episod...|         1980|      Irvin Kershner|Action, Adventure...|       Mark Hamill|       Harrison Ford|1159315|\n",
            "|One Flew Over the...|         1975|        Milos Forman|               Drama|    Jack Nicholson|     Louise Fletcher| 918088|\n",
            "|            Hamilton|         2020|         Thomas Kail|Biography, Drama,...|Lin-Manuel Miranda|        Phillipa Soo|  55291|\n",
            "|        Gisaengchung|         2019|        Bong Joon Ho|Comedy, Drama, Th...|      Kang-ho Song|        Lee Sun-kyun| 552778|\n",
            "+--------------------+-------------+--------------------+--------------------+------------------+--------------------+-------+\n",
            "only showing top 20 rows\n",
            "\n"
          ]
        }
      ]
    },
    {
      "cell_type": "markdown",
      "source": [
        "#Filtragem"
      ],
      "metadata": {
        "id": "erf8Yu6PLgT1"
      }
    },
    {
      "cell_type": "code",
      "source": [
        "#demonstração com int\n",
        "df_votos.filter(df_votos.votos > 1800000).show()"
      ],
      "metadata": {
        "colab": {
          "base_uri": "https://localhost:8080/"
        },
        "id": "c9J3IQrT-Dou",
        "outputId": "efb69537-2a64-47e7-fd54-c52ad705fcc6"
      },
      "execution_count": null,
      "outputs": [
        {
          "output_type": "stream",
          "name": "stdout",
          "text": [
            "+--------------------+-------------+-----------------+--------------------+-----------------+--------------------+-------+\n",
            "|        Series_title|Released_Year|         Director|               Genre|            Star1|               Star2|  votos|\n",
            "+--------------------+-------------+-----------------+--------------------+-----------------+--------------------+-------+\n",
            "|The Shawshank Red...|         1994|   Frank Darabont|               Drama|      Tim Robbins|      Morgan Freeman|2343110|\n",
            "|     The Dark Knight|         2008|Christopher Nolan|Action, Crime, Drama|   Christian Bale|        Heath Ledger|2303232|\n",
            "|        Pulp Fiction|         1994|Quentin Tarantino|        Crime, Drama|    John Travolta|         Uma Thurman|1826188|\n",
            "|           Inception|         2010|Christopher Nolan|Action, Adventure...|Leonardo DiCaprio|Joseph Gordon-Levitt|2067042|\n",
            "|          Fight Club|         1999|    David Fincher|               Drama|        Brad Pitt|       Edward Norton|1854740|\n",
            "|        Forrest Gump|         1994|  Robert Zemeckis|      Drama, Romance|        Tom Hanks|        Robin Wright|1809221|\n",
            "+--------------------+-------------+-----------------+--------------------+-----------------+--------------------+-------+\n",
            "\n"
          ]
        }
      ]
    },
    {
      "cell_type": "code",
      "source": [
        "#demonstração com string\n",
        "df_votos.filter(df_votos.Star1 == 'Joaquin Phoenix').show()"
      ],
      "metadata": {
        "colab": {
          "base_uri": "https://localhost:8080/"
        },
        "id": "ee3CHkeYP2Cm",
        "outputId": "750a6120-a92e-4129-e2ca-5051d8bab97b"
      },
      "execution_count": null,
      "outputs": [
        {
          "output_type": "stream",
          "name": "stdout",
          "text": [
            "+-------------+-------------+-------------+--------------------+---------------+-----------------+------+\n",
            "| Series_title|Released_Year|     Director|               Genre|          Star1|            Star2| votos|\n",
            "+-------------+-------------+-------------+--------------------+---------------+-----------------+------+\n",
            "|        Joker|         2019|Todd Phillips|Crime, Drama, Thr...|Joaquin Phoenix|   Robert De Niro|939252|\n",
            "|          Her|         2013|  Spike Jonze|Drama, Romance, S...|Joaquin Phoenix|        Amy Adams|540772|\n",
            "|Walk the Line|         2005|James Mangold|Biography, Drama,...|Joaquin Phoenix|Reese Witherspoon|234207|\n",
            "+-------------+-------------+-------------+--------------------+---------------+-----------------+------+\n",
            "\n"
          ]
        }
      ]
    },
    {
      "cell_type": "code",
      "source": [
        "#para pegar o maximo\n",
        "df_max = df_votos.agg(max('votos').alias('max_votos'))\n",
        "df_max.show()"
      ],
      "metadata": {
        "colab": {
          "base_uri": "https://localhost:8080/"
        },
        "id": "ZFPDjGZKJjWl",
        "outputId": "61d3f115-7f2a-4334-d639-32b056d36056"
      },
      "execution_count": null,
      "outputs": [
        {
          "output_type": "stream",
          "name": "stdout",
          "text": [
            "+---------+\n",
            "|max_votos|\n",
            "+---------+\n",
            "|  2343110|\n",
            "+---------+\n",
            "\n"
          ]
        }
      ]
    },
    {
      "cell_type": "code",
      "source": [
        "# realiza a filtragem de linhas que tenham o numero de votos igual  a 2343110\n",
        "df_mega =  df_votos.filter(df_votos.votos ==  2343110).show()"
      ],
      "metadata": {
        "colab": {
          "base_uri": "https://localhost:8080/"
        },
        "id": "tfsUJ2ydKqPT",
        "outputId": "91691c3b-6eeb-4c2a-90c8-a466cfdbbe3b"
      },
      "execution_count": null,
      "outputs": [
        {
          "output_type": "stream",
          "name": "stdout",
          "text": [
            "+--------------------+-------------+--------------+-----+-----------+--------------+-------+\n",
            "|        Series_title|Released_Year|      Director|Genre|      Star1|         Star2|  votos|\n",
            "+--------------------+-------------+--------------+-----+-----------+--------------+-------+\n",
            "|The Shawshank Red...|         1994|Frank Darabont|Drama|Tim Robbins|Morgan Freeman|2343110|\n",
            "+--------------------+-------------+--------------+-----+-----------+--------------+-------+\n",
            "\n"
          ]
        }
      ]
    },
    {
      "cell_type": "code",
      "source": [
        "#realizar a contagem \n",
        "#contagem de filmes por Estrelas\n",
        "df_sum = df_votos.groupBy('Star1').count()\n",
        "df_sum.show()"
      ],
      "metadata": {
        "colab": {
          "base_uri": "https://localhost:8080/"
        },
        "id": "PHpjPYvAMWuJ",
        "outputId": "cbfedfa2-dd23-4138-a595-16c153ea479a"
      },
      "execution_count": null,
      "outputs": [
        {
          "output_type": "stream",
          "name": "stdout",
          "text": [
            "+-----------------+-----+\n",
            "|            Star1|count|\n",
            "+-----------------+-----+\n",
            "| Daniel Day-Lewis|    4|\n",
            "|   Noémie Merlant|    1|\n",
            "| Laurence Olivier|    2|\n",
            "|    Seung-Yun Lee|    1|\n",
            "|Mikael Persbrandt|    1|\n",
            "|     Robert Donat|    1|\n",
            "|    John Travolta|    1|\n",
            "|      Kim Min-hee|    1|\n",
            "|     Silvia Pinal|    1|\n",
            "|       Emma Stone|    1|\n",
            "|     Glen Hansard|    1|\n",
            "|   Ingrid Bergman|    1|\n",
            "|     Emile Hirsch|    1|\n",
            "|       Barry Cook|    1|\n",
            "|         Tim Roth|    1|\n",
            "|        Amit Sadh|    1|\n",
            "|     Eileen Walsh|    1|\n",
            "|   Peter Dinklage|    1|\n",
            "|Emilio Echevarría|    1|\n",
            "|    Griffin Dunne|    1|\n",
            "+-----------------+-----+\n",
            "only showing top 20 rows\n",
            "\n"
          ]
        }
      ]
    },
    {
      "cell_type": "code",
      "source": [
        "#mesma contagem só que em ordem decrescente \n",
        "df_sum.orderBy(col('count').desc()).show(10)"
      ],
      "metadata": {
        "colab": {
          "base_uri": "https://localhost:8080/"
        },
        "id": "-qh3u0XZN4hB",
        "outputId": "21aa4365-b714-4203-a892-bde5d8d7bdb3"
      },
      "execution_count": null,
      "outputs": [
        {
          "output_type": "stream",
          "name": "stdout",
          "text": [
            "+-----------------+-----+\n",
            "|            Star1|count|\n",
            "+-----------------+-----+\n",
            "|        Tom Hanks|   11|\n",
            "|   Robert De Niro|   11|\n",
            "|        Al Pacino|    9|\n",
            "|   Clint Eastwood|    9|\n",
            "|Leonardo DiCaprio|    9|\n",
            "|  Humphrey Bogart|    9|\n",
            "|   Christian Bale|    8|\n",
            "|    James Stewart|    8|\n",
            "|   Toshirô Mifune|    7|\n",
            "|Denzel Washington|    7|\n",
            "+-----------------+-----+\n",
            "only showing top 10 rows\n",
            "\n"
          ]
        }
      ]
    },
    {
      "cell_type": "code",
      "source": [
        "#selecionando filmes que contem Joaquin Phoenix' e'Christian Bale' mostrando apenas titulo e votos com o nome\n",
        "df_votos.select('Star1','Star2','Series_title','votos')\\\n",
        "  .filter(df_votos.Star1.isin('Joaquin Phoenix','Christian Bale','Chris Pratt')).show()"
      ],
      "metadata": {
        "colab": {
          "base_uri": "https://localhost:8080/"
        },
        "id": "dSECdecBPmaW",
        "outputId": "749986e9-e6f5-4206-d50a-d291ae1594aa"
      },
      "execution_count": null,
      "outputs": [
        {
          "output_type": "stream",
          "name": "stdout",
          "text": [
            "+---------------+--------------------+--------------------+-------+\n",
            "|          Star1|               Star2|        Series_title|  votos|\n",
            "+---------------+--------------------+--------------------+-------+\n",
            "| Christian Bale|        Heath Ledger|     The Dark Knight|2303232|\n",
            "|Joaquin Phoenix|      Robert De Niro|               Joker| 939252|\n",
            "| Christian Bale|        Hugh Jackman|        The Prestige|1190259|\n",
            "| Christian Bale|           Tom Hardy|The Dark Knight R...|1516346|\n",
            "| Christian Bale|       Michael Caine|       Batman Begins|1308302|\n",
            "|    Chris Pratt|          Vin Diesel|Guardians of the ...|1043455|\n",
            "|Joaquin Phoenix|           Amy Adams|                 Her| 540772|\n",
            "| Christian Bale|        Steve Carell|       The Big Short| 362942|\n",
            "|Joaquin Phoenix|   Reese Witherspoon|       Walk the Line| 234207|\n",
            "| Christian Bale|Jennifer Jason Leigh|       The Machinist| 358432|\n",
            "| Christian Bale|      John Malkovich|   Empire of the Sun| 115677|\n",
            "|    Chris Pratt|         Zoe Saldana|Guardians of the ...| 569974|\n",
            "| Christian Bale|      Justin Theroux|     American Psycho| 490062|\n",
            "+---------------+--------------------+--------------------+-------+\n",
            "\n"
          ]
        }
      ]
    },
    {
      "cell_type": "code",
      "source": [
        "#filmes que não contem 'Joaquin Phoenix' e 'Christian Bale'\n",
        "df_votos.select('Star1','Series_title','votos')\\\n",
        "  .filter(~df_votos.Star1.isin('Joaquin Phoenix','Christian Bale', )).show()"
      ],
      "metadata": {
        "colab": {
          "base_uri": "https://localhost:8080/"
        },
        "id": "JI_NtWQCVXfW",
        "outputId": "bf901fcd-9809-4f74-ee62-353dc4690187"
      },
      "execution_count": null,
      "outputs": [
        {
          "output_type": "stream",
          "name": "stdout",
          "text": [
            "+------------------+--------------------+-------+\n",
            "|             Star1|        Series_title|  votos|\n",
            "+------------------+--------------------+-------+\n",
            "|       Tim Robbins|The Shawshank Red...|2343110|\n",
            "|     Marlon Brando|       The Godfather|1620367|\n",
            "|         Al Pacino|The Godfather: Pa...|1129952|\n",
            "|       Henry Fonda|        12 Angry Men| 689845|\n",
            "|       Elijah Wood|The Lord of the R...|1642758|\n",
            "|     John Travolta|        Pulp Fiction|1826188|\n",
            "|       Liam Neeson|    Schindler's List|1213505|\n",
            "| Leonardo DiCaprio|           Inception|2067042|\n",
            "|         Brad Pitt|          Fight Club|1854740|\n",
            "|       Elijah Wood|The Lord of the R...|1661481|\n",
            "|         Tom Hanks|        Forrest Gump|1809221|\n",
            "|    Clint Eastwood|Il buono, il brut...| 688390|\n",
            "|       Elijah Wood|The Lord of the R...|1485555|\n",
            "|   Lilly Wachowski|          The Matrix|1676426|\n",
            "|    Robert De Niro|          Goodfellas|1020727|\n",
            "|       Mark Hamill|Star Wars: Episod...|1159315|\n",
            "|    Jack Nicholson|One Flew Over the...| 918088|\n",
            "|Lin-Manuel Miranda|            Hamilton|  55291|\n",
            "|      Kang-ho Song|        Gisaengchung| 552778|\n",
            "|            Suriya|     Soorarai Pottru|  54995|\n",
            "+------------------+--------------------+-------+\n",
            "only showing top 20 rows\n",
            "\n"
          ]
        }
      ]
    },
    {
      "cell_type": "markdown",
      "source": [
        "###Filtragem com SQL"
      ],
      "metadata": {
        "id": "46mfFXJnV98K"
      }
    },
    {
      "cell_type": "code",
      "source": [
        "df_votos.createOrReplaceTempView('movies')\n",
        "spark.sql('SELECT Star1, count(*) as qtd from movies GROUP BY Star1 ORDER BY qtd desc').show(truncate = False)"
      ],
      "metadata": {
        "colab": {
          "base_uri": "https://localhost:8080/"
        },
        "id": "kGIccuv2VvXW",
        "outputId": "49b5950d-2d45-4f38-f5fb-0f633c5c75f5"
      },
      "execution_count": null,
      "outputs": [
        {
          "output_type": "stream",
          "name": "stdout",
          "text": [
            "+-----------------+---+\n",
            "|Star1            |qtd|\n",
            "+-----------------+---+\n",
            "|Tom Hanks        |11 |\n",
            "|Robert De Niro   |11 |\n",
            "|Leonardo DiCaprio|9  |\n",
            "|Clint Eastwood   |9  |\n",
            "|Al Pacino        |9  |\n",
            "|Humphrey Bogart  |9  |\n",
            "|James Stewart    |8  |\n",
            "|Christian Bale   |8  |\n",
            "|Johnny Depp      |7  |\n",
            "|Denzel Washington|7  |\n",
            "|Toshirô Mifune   |7  |\n",
            "|Aamir Khan       |7  |\n",
            "|Jake Gyllenhaal  |6  |\n",
            "|Daniel Radcliffe |6  |\n",
            "|Cary Grant       |6  |\n",
            "|Charles Chaplin  |6  |\n",
            "|Tom Cruise       |6  |\n",
            "|Russell Crowe    |5  |\n",
            "|Bruce Willis     |5  |\n",
            "|Ethan Coen       |5  |\n",
            "+-----------------+---+\n",
            "only showing top 20 rows\n",
            "\n"
          ]
        }
      ]
    },
    {
      "cell_type": "markdown",
      "source": [
        "Join"
      ],
      "metadata": {
        "id": "CRfANE8zclvX"
      }
    },
    {
      "cell_type": "code",
      "source": [
        "#importando a nova base de dados\n",
        "df_reviews = spark.read.csv(\"/content/IMDB-Movie-Data.csv\",header = True, inferSchema = True)\n",
        "df_reviews.show()"
      ],
      "metadata": {
        "colab": {
          "base_uri": "https://localhost:8080/"
        },
        "id": "4NgOz1f6b0_P",
        "outputId": "1be007a6-59b9-4fe6-dc11-acf0df8c5ec6"
      },
      "execution_count": null,
      "outputs": [
        {
          "output_type": "stream",
          "name": "stdout",
          "text": [
            "+----+--------------------+--------------------+--------------------+--------------------+--------------------+--------------------+-----------------+------+------+------------------+---------+\n",
            "|Rank|               Title|               Genre|         Description|            Director|              Actors|                Year|Runtime (Minutes)|Rating| Votes|Revenue (Millions)|Metascore|\n",
            "+----+--------------------+--------------------+--------------------+--------------------+--------------------+--------------------+-----------------+------+------+------------------+---------+\n",
            "|   1|Guardians of the ...|Action,Adventure,...|A group of interg...|          James Gunn|Chris Pratt, Vin ...|                2014|              121|   8.1|757074|            333.13|     76.0|\n",
            "|   2|          Prometheus|Adventure,Mystery...|Following clues t...|        Ridley Scott|Noomi Rapace, Log...|                2012|              124|     7|485820|            126.46|     65.0|\n",
            "|   3|               Split|     Horror,Thriller|Three girls are k...|  M. Night Shyamalan|James McAvoy, Any...|                2016|              117|   7.3|157606|            138.12|     62.0|\n",
            "|   4|                Sing|Animation,Comedy,...|In a city of huma...|Christophe Lourdelet|Matthew McConaugh...|                2016|              108|   7.2| 60545|            270.32|     59.0|\n",
            "|   5|       Suicide Squad|Action,Adventure,...|A secret governme...|          David Ayer|Will Smith, Jared...|                2016|              123|   6.2|393727|            325.02|     40.0|\n",
            "|   6|      The Great Wall|Action,Adventure,...|European mercenar...|         Yimou Zhang|Matt Damon, Tian ...|                2016|              103|   6.1| 56036|             45.13|     42.0|\n",
            "|   7|          La La Land|  Comedy,Drama,Music|A jazz pianist fa...|     Damien Chazelle|Ryan Gosling, Emm...|                2016|              128|   8.3|258682|            151.06|     93.0|\n",
            "|   8|            Mindhorn|              Comedy|\"A has-been actor...| whom he believes...|          Sean Foley|Essie Davis, Andr...|             2016|    89|   6.4|            2490.0|     null|\n",
            "|   9|  The Lost City of Z|Action,Adventure,...|A true-life drama...|          James Gray|Charlie Hunnam, R...|                2016|              141|   7.1|  7188|              8.01|     78.0|\n",
            "|  10|          Passengers|Adventure,Drama,R...|A spacecraft trav...|       Morten Tyldum|Jennifer Lawrence...|                2016|              116|     7|192177|            100.01|     41.0|\n",
            "|  11|Fantastic Beasts ...|Adventure,Family,...|The adventures of...|         David Yates|Eddie Redmayne, K...|                2016|              133|   7.5|232072|            234.02|     66.0|\n",
            "|  12|      Hidden Figures|Biography,Drama,H...|The story of a te...|      Theodore Melfi|Taraji P. Henson,...|                2016|              127|   7.8| 93103|            169.27|     74.0|\n",
            "|  13|           Rogue One|Action,Adventure,...|The Rebel Allianc...|      Gareth Edwards|Felicity Jones, D...|                2016|              133|   7.9|323118|            532.17|     65.0|\n",
            "|  14|               Moana|Animation,Adventu...|In Ancient Polyne...|        Ron Clements|Auli'i Cravalho, ...|                2016|              107|   7.7|118151|            248.75|     81.0|\n",
            "|  15|            Colossal| Action,Comedy,Drama|Gloria is an out-...|     Nacho Vigalondo|Anne Hathaway, Ja...|                2016|              109|   6.4|  8612|              2.87|     70.0|\n",
            "|  16|The Secret Life o...|Animation,Adventu...|The quiet life of...|        Chris Renaud|Louis C.K., Eric ...|                2016|               87|   6.6|120259|            368.31|     61.0|\n",
            "|  17|       Hacksaw Ridge|Biography,Drama,H...|WWII American Arm...|          Mel Gibson|Andrew Garfield, ...|                2016|              139|   8.2|211760|             67.12|     71.0|\n",
            "|  18|        Jason Bourne|     Action,Thriller|The CIA's most da...|     Paul Greengrass|Matt Damon, Tommy...|                2016|              123|   6.7|150823|            162.16|     58.0|\n",
            "|  19|                Lion|     Biography,Drama|A five-year-old I...|         Garth Davis|Dev Patel, Nicole...|                2016|              118|   8.1|102061|             51.69|     69.0|\n",
            "|  20|             Arrival|Drama,Mystery,Sci-Fi|When twelve myste...|    Denis Villeneuve|Amy Adams, Jeremy...|                2016|              116|     8|340798|             100.5|     81.0|\n",
            "+----+--------------------+--------------------+--------------------+--------------------+--------------------+--------------------+-----------------+------+------+------------------+---------+\n",
            "only showing top 20 rows\n",
            "\n"
          ]
        }
      ]
    },
    {
      "cell_type": "code",
      "source": [
        "#analizando suas colunas\n",
        "df_reviews.printSchema()"
      ],
      "metadata": {
        "colab": {
          "base_uri": "https://localhost:8080/"
        },
        "id": "_3CmhkTTnqQd",
        "outputId": "20cc1dde-453b-41ba-8ea9-27d5e1a990f6"
      },
      "execution_count": null,
      "outputs": [
        {
          "output_type": "stream",
          "name": "stdout",
          "text": [
            "root\n",
            " |-- Rank: integer (nullable = true)\n",
            " |-- Title: string (nullable = true)\n",
            " |-- Genre: string (nullable = true)\n",
            " |-- Description: string (nullable = true)\n",
            " |-- Director: string (nullable = true)\n",
            " |-- Actors: string (nullable = true)\n",
            " |-- Year: string (nullable = true)\n",
            " |-- Runtime (Minutes): string (nullable = true)\n",
            " |-- Rating: string (nullable = true)\n",
            " |-- Votes: string (nullable = true)\n",
            " |-- Revenue (Millions): double (nullable = true)\n",
            " |-- Metascore: double (nullable = true)\n",
            "\n"
          ]
        }
      ]
    },
    {
      "cell_type": "code",
      "source": [
        "#revendo os dados do df anterior\n",
        "df.show()"
      ],
      "metadata": {
        "colab": {
          "base_uri": "https://localhost:8080/"
        },
        "id": "q0xJSMJedrm4",
        "outputId": "ffc50a2f-5b48-46ca-c57e-3270c13c6ffa"
      },
      "execution_count": null,
      "outputs": [
        {
          "output_type": "stream",
          "name": "stdout",
          "text": [
            "+--------------------+--------------------+-------------+-----------+-------+--------------------+-----------+--------------------+----------+--------------------+------------------+--------------------+------------------+--------------------+-----------+-----------+\n",
            "|         Poster_Link|        Series_Title|Released_Year|Certificate|Runtime|               Genre|IMDB_Rating|            Overview|Meta_score|            Director|             Star1|               Star2|             Star3|               Star4|No_of_Votes|      Gross|\n",
            "+--------------------+--------------------+-------------+-----------+-------+--------------------+-----------+--------------------+----------+--------------------+------------------+--------------------+------------------+--------------------+-----------+-----------+\n",
            "|https://m.media-a...|The Shawshank Red...|         1994|          A|142 min|               Drama|        9.3|Two imprisoned me...|        80|      Frank Darabont|       Tim Robbins|      Morgan Freeman|        Bob Gunton|      William Sadler|    2343110| 28,341,469|\n",
            "|https://m.media-a...|       The Godfather|         1972|          A|175 min|        Crime, Drama|        9.2|An organized crim...|       100|Francis Ford Coppola|     Marlon Brando|           Al Pacino|        James Caan|        Diane Keaton|    1620367|134,966,411|\n",
            "|https://m.media-a...|     The Dark Knight|         2008|         UA|152 min|Action, Crime, Drama|        9.0|When the menace k...|        84|   Christopher Nolan|    Christian Bale|        Heath Ledger|     Aaron Eckhart|       Michael Caine|    2303232|534,858,444|\n",
            "|https://m.media-a...|The Godfather: Pa...|         1974|          A|202 min|        Crime, Drama|        9.0|The early life an...|        90|Francis Ford Coppola|         Al Pacino|      Robert De Niro|     Robert Duvall|        Diane Keaton|    1129952| 57,300,000|\n",
            "|https://m.media-a...|        12 Angry Men|         1957|          U| 96 min|        Crime, Drama|        9.0|A jury holdout at...|        96|        Sidney Lumet|       Henry Fonda|         Lee J. Cobb|     Martin Balsam|        John Fiedler|     689845|  4,360,000|\n",
            "|https://m.media-a...|The Lord of the R...|         2003|          U|201 min|Action, Adventure...|        8.9|Gandalf and Arago...|        94|       Peter Jackson|       Elijah Wood|     Viggo Mortensen|      Ian McKellen|       Orlando Bloom|    1642758|377,845,905|\n",
            "|https://m.media-a...|        Pulp Fiction|         1994|          A|154 min|        Crime, Drama|        8.9|The lives of two ...|        94|   Quentin Tarantino|     John Travolta|         Uma Thurman| Samuel L. Jackson|        Bruce Willis|    1826188|107,928,762|\n",
            "|https://m.media-a...|    Schindler's List|         1993|          A|195 min|Biography, Drama,...|        8.9|In German-occupie...|        94|    Steven Spielberg|       Liam Neeson|       Ralph Fiennes|      Ben Kingsley|    Caroline Goodall|    1213505| 96,898,818|\n",
            "|https://m.media-a...|           Inception|         2010|         UA|148 min|Action, Adventure...|        8.8|A thief who steal...|        74|   Christopher Nolan| Leonardo DiCaprio|Joseph Gordon-Levitt|       Elliot Page|        Ken Watanabe|    2067042|292,576,195|\n",
            "|https://m.media-a...|          Fight Club|         1999|          A|139 min|               Drama|        8.8|An insomniac offi...|        66|       David Fincher|         Brad Pitt|       Edward Norton|         Meat Loaf|        Zach Grenier|    1854740| 37,030,102|\n",
            "|https://m.media-a...|The Lord of the R...|         2001|          U|178 min|Action, Adventure...|        8.8|A meek Hobbit fro...|        92|       Peter Jackson|       Elijah Wood|        Ian McKellen|     Orlando Bloom|           Sean Bean|    1661481|315,544,750|\n",
            "|https://m.media-a...|        Forrest Gump|         1994|         UA|142 min|      Drama, Romance|        8.8|The presidencies ...|        82|     Robert Zemeckis|         Tom Hanks|        Robin Wright|       Gary Sinise|         Sally Field|    1809221|330,252,182|\n",
            "|https://m.media-a...|Il buono, il brut...|         1966|          A|161 min|             Western|        8.8|A bounty hunting ...|        90|        Sergio Leone|    Clint Eastwood|         Eli Wallach|     Lee Van Cleef|        Aldo Giuffrè|     688390|  6,100,000|\n",
            "|https://m.media-a...|The Lord of the R...|         2002|         UA|179 min|Action, Adventure...|        8.7|While Frodo and S...|        87|       Peter Jackson|       Elijah Wood|        Ian McKellen|   Viggo Mortensen|       Orlando Bloom|    1485555|342,551,365|\n",
            "|https://m.media-a...|          The Matrix|         1999|          A|136 min|      Action, Sci-Fi|        8.7|When a beautiful ...|        73|      Lana Wachowski|   Lilly Wachowski|        Keanu Reeves|Laurence Fishburne|    Carrie-Anne Moss|    1676426|171,479,930|\n",
            "|https://m.media-a...|          Goodfellas|         1990|          A|146 min|Biography, Crime,...|        8.7|The story of Henr...|        90|     Martin Scorsese|    Robert De Niro|          Ray Liotta|         Joe Pesci|     Lorraine Bracco|    1020727| 46,836,394|\n",
            "|https://m.media-a...|Star Wars: Episod...|         1980|         UA|124 min|Action, Adventure...|        8.7|After the Rebels ...|        82|      Irvin Kershner|       Mark Hamill|       Harrison Ford|     Carrie Fisher|  Billy Dee Williams|    1159315|290,475,067|\n",
            "|https://m.media-a...|One Flew Over the...|         1975|          A|133 min|               Drama|        8.7|A criminal pleads...|        83|        Milos Forman|    Jack Nicholson|     Louise Fletcher|  Michael Berryman|        Peter Brocco|     918088|112,000,000|\n",
            "|https://m.media-a...|            Hamilton|         2020|      PG-13|160 min|Biography, Drama,...|        8.6|The real life of ...|        90|         Thomas Kail|Lin-Manuel Miranda|        Phillipa Soo|   Leslie Odom Jr.|Renée Elise Golds...|      55291|       null|\n",
            "|https://m.media-a...|        Gisaengchung|         2019|          A|132 min|Comedy, Drama, Th...|        8.6|Greed and class d...|        96|        Bong Joon Ho|      Kang-ho Song|        Lee Sun-kyun|     Cho Yeo-jeong|        Choi Woo-sik|     552778| 53,367,844|\n",
            "+--------------------+--------------------+-------------+-----------+-------+--------------------+-----------+--------------------+----------+--------------------+------------------+--------------------+------------------+--------------------+-----------+-----------+\n",
            "only showing top 20 rows\n",
            "\n"
          ]
        }
      ]
    },
    {
      "cell_type": "code",
      "source": [
        "#utilizando Joins\n",
        "#obs.: não consegui achar outra base de dados para fazer o join\n",
        "df_Junto = df.join(df_reviews, df.Series_Title == df_reviews.Title, 'inner')\\\n",
        "      .select(df_reviews.Rank, df.Series_Title, df_reviews.Year, df.Star1, df.Star2,df.Meta_score, df_reviews.Rating)\n",
        "# criada uma base que é a junção das duas bases que utiliza as colunas das duas"
      ],
      "metadata": {
        "id": "h7ZhXJZlX_Tt"
      },
      "execution_count": null,
      "outputs": []
    },
    {
      "cell_type": "code",
      "source": [
        "#fazendo uma consulta na nova base criada\n",
        "print(\"Melhores filmes por Rating\")\n",
        "df_Junto.filter(df_Junto.Meta_score >= 60)\\\n",
        "        .orderBy(df_Junto.Rating.desc())\\\n",
        "        .show(10)"
      ],
      "metadata": {
        "colab": {
          "base_uri": "https://localhost:8080/"
        },
        "id": "DClU4ErbiFj4",
        "outputId": "f0ee2de9-947d-426b-e55f-6f1f049eebea"
      },
      "execution_count": null,
      "outputs": [
        {
          "output_type": "stream",
          "name": "stdout",
          "text": [
            "Melhores filmes por Rating\n",
            "+----+--------------------+----+-------------------+--------------------+----------+------+\n",
            "|Rank|        Series_Title|Year|              Star1|               Star2|Meta_score|Rating|\n",
            "+----+--------------------+----+-------------------+--------------------+----------+------+\n",
            "|  55|     The Dark Knight|2008|     Christian Bale|        Heath Ledger|        84|     9|\n",
            "|  81|           Inception|2010|  Leonardo DiCaprio|Joseph Gordon-Levitt|        74|   8.8|\n",
            "|  37|        Interstellar|2014|Matthew McConaughey|       Anne Hathaway|        74|   8.6|\n",
            "| 100|        The Departed|2006|  Leonardo DiCaprio|          Matt Damon|        85|   8.5|\n",
            "|  65|        The Prestige|2006|     Christian Bale|        Hugh Jackman|        66|   8.5|\n",
            "| 125|The Dark Knight R...|2012|     Christian Bale|           Tom Hardy|        78|   8.5|\n",
            "| 477| The Lives of Others|2006|        Ulrich Mühe|      Martina Gedeck|        89|   8.5|\n",
            "| 134|            Whiplash|2014|       Miles Teller|        J.K. Simmons|        88|   8.5|\n",
            "| 145|    Django Unchained|2012|         Jamie Foxx|     Christoph Waltz|        81|   8.4|\n",
            "| 431|            3 Idiots|2009|         Aamir Khan|            Madhavan|        67|   8.4|\n",
            "+----+--------------------+----+-------------------+--------------------+----------+------+\n",
            "only showing top 10 rows\n",
            "\n"
          ]
        }
      ]
    }
  ]
}
